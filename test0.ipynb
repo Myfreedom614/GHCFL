{
 "cells": [
  {
   "cell_type": "code",
   "execution_count": 3,
   "metadata": {},
   "outputs": [
    {
     "name": "stdout",
     "output_type": "stream",
     "text": [
      "99 2046.521240234375\n",
      "199 1439.64794921875\n",
      "299 1013.97216796875\n",
      "399 715.2403564453125\n",
      "499 505.4943542480469\n",
      "599 358.1595458984375\n",
      "699 254.620361328125\n",
      "799 181.8282012939453\n",
      "899 130.63232421875\n",
      "999 94.6123046875\n",
      "1099 69.26078796386719\n",
      "1199 51.41203308105469\n",
      "1299 38.841651916503906\n",
      "1399 29.986143112182617\n",
      "1499 23.74591636657715\n",
      "1599 19.347463607788086\n",
      "1699 16.246421813964844\n",
      "1799 14.059609413146973\n",
      "1899 12.517148971557617\n",
      "1999 11.428955078125\n",
      "Result: y = -0.05312396213412285 + 0.8473708033561707 x + 0.009164770133793354 x^2 + -0.09199760109186172 x^3\n"
     ]
    }
   ],
   "source": [
    "import torch\n",
    "import math \n",
    "\n",
    "dtype = torch.float\n",
    "device = torch.device(\"mps\")\n",
    "\n",
    "# Create random input and output data\n",
    "x = torch.linspace(-math.pi, math.pi, 2000, device=device, dtype=dtype)\n",
    "y = torch.sin(x)\n",
    "\n",
    "# Randomly initialize weights\n",
    "a = torch.randn((), device=device, dtype=dtype)\n",
    "b = torch.randn((), device=device, dtype=dtype)\n",
    "c = torch.randn((), device=device, dtype=dtype)\n",
    "d = torch.randn((), device=device, dtype=dtype)\n",
    "\n",
    "learning_rate = 1e-6\n",
    "for t in range(2000):\n",
    "    # Forward pass: compute predicted y\n",
    "    y_pred = a + b * x + c * x ** 2 + d * x ** 3\n",
    "\n",
    "    # Compute and print loss\n",
    "    loss = (y_pred - y).pow(2).sum().item()\n",
    "    if t % 100 == 99:\n",
    "        print(t, loss)\n",
    "\n",
    "# Backprop to compute gradients of a, b, c, d with respect to loss\n",
    "    grad_y_pred = 2.0 * (y_pred - y)\n",
    "    grad_a = grad_y_pred.sum()\n",
    "    grad_b = (grad_y_pred * x).sum()\n",
    "    grad_c = (grad_y_pred * x ** 2).sum()\n",
    "    grad_d = (grad_y_pred * x ** 3).sum()\n",
    "\n",
    "    # Update weights using gradient descent\n",
    "    a -= learning_rate * grad_a\n",
    "    b -= learning_rate * grad_b\n",
    "    c -= learning_rate * grad_c\n",
    "    d -= learning_rate * grad_d\n",
    "\n",
    "\n",
    "print(f'Result: y = {a.item()} + {b.item()} x + {c.item()} x^2 + {d.item()} x^3')"
   ]
  },
  {
   "cell_type": "code",
   "execution_count": null,
   "metadata": {},
   "outputs": [],
   "source": []
  },
  {
   "cell_type": "code",
   "execution_count": null,
   "metadata": {},
   "outputs": [],
   "source": [
    "import torch\n",
    "from scipy.cluster.hierarchy import dendrogram, linkage\n",
    "from scipy.spatial.distance import pdist\n",
    "from scipy.cluster.hierarchy import fcluster\n",
    "# 生成一些随机数据\n",
    "# X = torch.randn(10, 2)\n",
    "X = torch.tensor([[-0.2255,  0.4324],\n",
    "        [ 0.8043,  0.8567],\n",
    "        [-0.0747, -0.6191],\n",
    "        [-0.0945, -0.4330],\n",
    "        [-0.8426, -0.5141],\n",
    "        [-0.5853,  0.7330],\n",
    "        [-1.1090, -0.4401],\n",
    "        [-0.3951,  1.2259],\n",
    "        [ 0.0319,  0.9381],\n",
    "        [ 0.9036,  0.6088]])\n",
    "print(X,\"\\n\")\n",
    "# 计算距离矩阵\n",
    "dist_matrix = pdist(X)\n",
    "\n",
    "# 使用linkage函数计算链接矩阵\n",
    "Z = linkage(dist_matrix)\n",
    "\n",
    "# 使用dendrogram函数绘制树状图\n",
    "dendrogram(Z,above_threshold_color=\"#fff917\")\n",
    "\n",
    "t1=0.6\n",
    "t2=0.8\n",
    "t3=1\n",
    "# 假设Z是您之前计算出的链接矩阵\n",
    "# 假设t是您设定的距离阈值\n",
    "clusters1 = fcluster(Z, t1, criterion='distance')\n",
    "clusters2 = fcluster(Z, t2, criterion='distance')\n",
    "clusters3 = fcluster(Z, t3, criterion='distance')\n",
    "\n",
    "print(clusters1,\"\\n\")\n",
    "print(clusters2,\"\\n\")\n",
    "print(clusters3,\"\\n\")\n",
    "\n",
    "# clusters1 = np.array([5,1,2,4,3,6,1])\n",
    "clusters1 = np.array([1,1,1,1,2,2,2])\n",
    "print(\"\\nclusters1:\\n\",clusters1)\n",
    "cluster_indices = []\n",
    "for x in range(np.max(clusters1)):\n",
    "    print(\"\\n@@@\\n\",np.where(clusters1==(x+1))[0])\n",
    "    cluster_indices.append(np.where(clusters1==(x+1))[0])\n",
    "print(\"\\ncluster idcs:\\n\",cluster_indices)"
   ]
  },
  {
   "cell_type": "code",
   "execution_count": 3,
   "metadata": {},
   "outputs": [
    {
     "name": "stdout",
     "output_type": "stream",
     "text": [
      "{'FedAvg': 3}\n"
     ]
    }
   ],
   "source": [
    "accs  = [0.7494830254628592, 0.7218213661006894, 0.7498688440238601, 0.7262314659070352, 0.7251887130394649, 0.7273124530464166, 0.7252269473112758, 0.730724267253467, 0.7248411287502747]\n",
    "ratios = {}\n",
    "\n",
    "clients_over_avg = len([acc for acc  in accs if acc > 0.73])\n",
    "ratios[\"FedAvg\"] = clients_over_avg\n",
    "\n",
    "print(ratios)"
   ]
  }
 ],
 "metadata": {
  "kernelspec": {
   "display_name": "pytorch",
   "language": "python",
   "name": "python3"
  },
  "language_info": {
   "codemirror_mode": {
    "name": "ipython",
    "version": 3
   },
   "file_extension": ".py",
   "mimetype": "text/x-python",
   "name": "python",
   "nbconvert_exporter": "python",
   "pygments_lexer": "ipython3",
   "version": "3.9.16"
  },
  "orig_nbformat": 4
 },
 "nbformat": 4,
 "nbformat_minor": 2
}
